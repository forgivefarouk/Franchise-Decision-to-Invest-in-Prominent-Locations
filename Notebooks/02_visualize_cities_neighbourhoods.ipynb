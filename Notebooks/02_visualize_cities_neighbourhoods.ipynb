{
 "cells": [
  {
   "cell_type": "code",
   "execution_count": 3,
   "id": "868ebe6e-1ef7-4f8a-a097-5833f9ae56ce",
   "metadata": {},
   "outputs": [],
   "source": [
    "import folium\n",
    "from folium import Choropleth, Circle, Marker\n",
    "from folium.plugins import HeatMap, MarkerCluster\n"
   ]
  }
 ],
 "metadata": {
  "kernelspec": {
   "display_name": "selenium",
   "language": "python",
   "name": "selenium"
  },
  "language_info": {
   "codemirror_mode": {
    "name": "ipython",
    "version": 3
   },
   "file_extension": ".py",
   "mimetype": "text/x-python",
   "name": "python",
   "nbconvert_exporter": "python",
   "pygments_lexer": "ipython3",
   "version": "3.9.17"
  }
 },
 "nbformat": 4,
 "nbformat_minor": 5
}
