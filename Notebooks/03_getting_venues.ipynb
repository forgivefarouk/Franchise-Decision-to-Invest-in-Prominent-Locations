{
 "cells": [
  {
   "cell_type": "code",
   "execution_count": 3,
   "id": "0d5d8bc9-b2fb-4bf0-8482-be5acc1b4ef5",
   "metadata": {
    "tags": []
   },
   "outputs": [],
   "source": [
    "CLIENT_ID='ZGY023E0IAYOYCPVCKZV3LRG5LTTWEBFMJ2KAYEIZU22ZSWL'\n",
    "CLIENT_SECRET='XYUFKB5RICTULFGMCT2CIL54OWNN4B2D1QQ1O0PQVNJ34PWV'\n",
    "VENU_KEY='fsq3ZvwbThl+Fk13tHHRPsLUDh5Mp1mxVvNVGwdzaCyOJh4='\n"
   ]
  },
  {
   "cell_type": "code",
   "execution_count": null,
   "id": "93de9263-0c24-4f40-8fa9-ecf59622fbdc",
   "metadata": {},
   "outputs": [],
   "source": []
  },
  {
   "cell_type": "code",
   "execution_count": null,
   "id": "6e7beb56-21e6-4abc-a3d1-023e17f07767",
   "metadata": {},
   "outputs": [],
   "source": []
  }
 ],
 "metadata": {
  "kernelspec": {
   "display_name": "selenium",
   "language": "python",
   "name": "selenium"
  },
  "language_info": {
   "codemirror_mode": {
    "name": "ipython",
    "version": 3
   },
   "file_extension": ".py",
   "mimetype": "text/x-python",
   "name": "python",
   "nbconvert_exporter": "python",
   "pygments_lexer": "ipython3",
   "version": "3.9.17"
  }
 },
 "nbformat": 4,
 "nbformat_minor": 5
}
