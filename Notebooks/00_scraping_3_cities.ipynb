{
 "cells": [
  {
   "cell_type": "markdown",
   "id": "d4b3f2b3-d492-4aec-be87-c7ca8092ac62",
   "metadata": {},
   "source": [
    "#   Scrape the neighbours of 3 cities:\n",
    "  - Berlin\n",
    "  - Alberta\n",
    "  - New Orleans"
   ]
  },
  {
   "cell_type": "code",
   "execution_count": 1,
   "id": "3bc5ef83-ee42-44be-ac9d-d14ced864fb7",
   "metadata": {},
   "outputs": [],
   "source": [
    "from selenium import webdriver\n",
    "from selenium.webdriver.common.by import By\n",
    "from selenium.webdriver.chrome.service import Service as ChromeService\n",
    "from webdriver_manager.chrome import ChromeDriverManager\n",
    "import pandas as pd\n",
    "import numpy as np\n",
    "\n",
    "\n",
    "driver = webdriver.Chrome(service=ChromeService(ChromeDriverManager().install()))\n",
    "\n"
   ]
  },
  {
   "cell_type": "markdown",
   "id": "f19ba3c6-b60c-435a-95bc-1e9812a8071e",
   "metadata": {},
   "source": [
    "## Berlin Neighbourhoods"
   ]
  },
  {
   "cell_type": "code",
   "execution_count": 2,
   "id": "5e7107bc-d0c9-4b5a-a888-c659bebd7fd3",
   "metadata": {},
   "outputs": [],
   "source": [
    "driver.get(\"https://en.wikipedia.org/wiki/Boroughs_and_neighborhoods_of_Berlin\")\n",
    "Berlin_Neighbourhood=[]\n",
    "for col in range(12):\n",
    "    element = driver.find_element(By.XPATH, f'/html/body/div[2]/div/div[3]/main/div[3]/div[3]/div[1]/table[1]/tbody/tr[{col+1}]/td[1]/a').text\n",
    "    Berlin_Neighbourhood.append(element)\n",
    "\n",
    "Berlin_df= pd.DataFrame({'Neighbourhood':Berlin_Neighbourhood,'City': 'Berlin', 'Country': 'Germany'})"
   ]
  },
  {
   "cell_type": "markdown",
   "id": "a6b5b279-6044-447b-9ceb-6568320c2d27",
   "metadata": {},
   "source": [
    "## Red Deer Alberta Neighbourhoods"
   ]
  },
  {
   "cell_type": "code",
   "execution_count": 3,
   "id": "eaa0dedf-6d41-4589-ada8-059ba1c4b001",
   "metadata": {},
   "outputs": [],
   "source": [
    "driver.get(\"https://en.wikipedia.org/wiki/Red_Deer,_Alberta#Neighbourhoods\")\n",
    "Alberta_Neighbourhood=[]\n",
    "for col in range(83):\n",
    "    element = driver.find_element(By.XPATH, f'/html/body/div[2]/div/div[3]/main/div[3]/div[3]/div[1]/div[4]/ul/li[{col+1}]').text\n",
    "    Alberta_Neighbourhood.append(element)\n",
    "\n",
    "Alberta_df= pd.DataFrame({'Neighbourhood':Alberta_Neighbourhood,'City': 'Alberta', 'Country': 'Canada'})"
   ]
  },
  {
   "cell_type": "markdown",
   "id": "67d6d1a9-3ce4-4f4e-b9c4-2c72241d0bfa",
   "metadata": {},
   "source": [
    "## New Orleans Neighbourhoods"
   ]
  },
  {
   "cell_type": "code",
   "execution_count": 4,
   "id": "34da1efd-0d2b-42ff-82d5-8ce281b40cd0",
   "metadata": {},
   "outputs": [],
   "source": [
    "driver.get(\"https://en.wikipedia.org/wiki/Neighborhoods_in_New_Orleans\")\n",
    "New_orleans_Neighbourhood=[]\n",
    "for col in range(72):\n",
    "    element = driver.find_element(By.XPATH, f'/html/body/div[2]/div/div[3]/main/div[3]/div[3]/div[1]/table/tbody/tr[{col+1}]/td[1]').text\n",
    "    New_orleans_Neighbourhood.append(element)\n",
    "\n",
    "New_orleans_df= pd.DataFrame({'Neighbourhood':New_orleans_Neighbourhood,'City': 'New Orleans', 'Country': 'United States'})"
   ]
  },
  {
   "cell_type": "markdown",
   "id": "a5942504-6888-4b1f-b62a-f0b73f52a9f4",
   "metadata": {},
   "source": [
    "## Combine 3 Cities into one dataframe"
   ]
  },
  {
   "cell_type": "code",
   "execution_count": 5,
   "id": "d9be2aa1-305f-4ab5-9ae6-7a17eff539ab",
   "metadata": {},
   "outputs": [],
   "source": [
    "all_df =pd.concat([Berlin_df,Alberta_df,New_orleans_df])"
   ]
  },
  {
   "cell_type": "code",
   "execution_count": 6,
   "id": "176789c4-1e5d-473b-ba77-655225d37840",
   "metadata": {},
   "outputs": [],
   "source": [
    "import pickle"
   ]
  },
  {
   "cell_type": "code",
   "execution_count": 9,
   "id": "27dcc43c-c645-4c01-b38f-c0be6c348f34",
   "metadata": {},
   "outputs": [],
   "source": [
    "all_df.to_pickle('../data/combine_3_cities.pkl')"
   ]
  },
  {
   "cell_type": "code",
   "execution_count": 12,
   "id": "120c7749-6f4d-465e-a08b-e687c4f112a1",
   "metadata": {},
   "outputs": [],
   "source": [
    "all_df.to_csv('../data/combine_3_cities.csv',index=False)"
   ]
  },
  {
   "cell_type": "code",
   "execution_count": 11,
   "id": "f5c7c323-a0c4-456f-bffa-815309bf1b5b",
   "metadata": {},
   "outputs": [],
   "source": [
    "driver.close()"
   ]
  },
  {
   "cell_type": "code",
   "execution_count": null,
   "id": "c3346594-24ca-43f9-a303-874c85d398ac",
   "metadata": {},
   "outputs": [],
   "source": []
  },
  {
   "cell_type": "code",
   "execution_count": null,
   "id": "66814011-3e63-41cc-8b92-90b8af202fef",
   "metadata": {},
   "outputs": [],
   "source": []
  }
 ],
 "metadata": {
  "kernelspec": {
   "display_name": "selenium",
   "language": "python",
   "name": "selenium"
  },
  "language_info": {
   "codemirror_mode": {
    "name": "ipython",
    "version": 3
   },
   "file_extension": ".py",
   "mimetype": "text/x-python",
   "name": "python",
   "nbconvert_exporter": "python",
   "pygments_lexer": "ipython3",
   "version": "3.9.17"
  }
 },
 "nbformat": 4,
 "nbformat_minor": 5
}
